{
 "cells": [
  {
   "cell_type": "markdown",
   "metadata": {},
   "source": [
    "## 1. Load Data"
   ]
  },
  {
   "cell_type": "markdown",
   "metadata": {},
   "source": [
    "#### 1.1 Import images"
   ]
  },
  {
   "cell_type": "code",
   "execution_count": 5,
   "metadata": {},
   "outputs": [
    {
     "data": {
      "text/plain": [
       "(6832, 1, 75, 100)"
      ]
     },
     "execution_count": 5,
     "metadata": {},
     "output_type": "execute_result"
    }
   ],
   "source": [
    "import os\n",
    "import cv2\n",
    "import numpy as np\n",
    "\n",
    "path_img_src = os.path.join(os.getcwd(), 'data/processed')\n",
    "valid_images = [\".jpg\",\".gif\",\".png\",\".tga\"]\n",
    "x = []\n",
    "for file in os.listdir(path_img_src):\n",
    "    ext = os.path.splitext(file)[1]\n",
    "    if ext.lower() not in valid_images: continue\n",
    "    img = cv2.imread(os.path.join(path_img_src,file), cv2.IMREAD_GRAYSCALE)\n",
    "    x.append(img)\n",
    "x = np.array(x)\n",
    "x = x.reshape(x.shape[0], 1, x.shape[1], x.shape[2])\n",
    "x.shape"
   ]
  },
  {
   "cell_type": "markdown",
   "metadata": {},
   "source": [
    "#### 1.2 Import labels"
   ]
  },
  {
   "cell_type": "code",
   "execution_count": 17,
   "metadata": {},
   "outputs": [
    {
     "data": {
      "text/plain": [
       "(6832, 1)"
      ]
     },
     "execution_count": 17,
     "metadata": {},
     "output_type": "execute_result"
    }
   ],
   "source": [
    "path_labels_src = os.path.join(os.getcwd(), 'data')\n",
    "y = []\n",
    "with open(os.path.join(path_labels_src, 'labels.txt'), \"r\") as labels_file:\n",
    "    for line in labels_file:\n",
    "        y.append(int(line.rstrip('\\n')))\n",
    "y = np.array(y[:x.shape[0]]).reshape(-1,1)\n",
    "y.shape"
   ]
  },
  {
   "cell_type": "markdown",
   "metadata": {},
   "source": [
    "## 2. Preprocess Data"
   ]
  },
  {
   "cell_type": "markdown",
   "metadata": {},
   "source": [
    "#### 2.1 Normalize images"
   ]
  },
  {
   "cell_type": "code",
   "execution_count": 18,
   "metadata": {},
   "outputs": [
    {
     "data": {
      "text/plain": [
       "(0.0, 1.0)"
      ]
     },
     "execution_count": 18,
     "metadata": {},
     "output_type": "execute_result"
    }
   ],
   "source": [
    "x = x / 255\n",
    "np.min(x), np.max(x)"
   ]
  },
  {
   "cell_type": "markdown",
   "metadata": {},
   "source": [
    "#### 2.2 Check label bias"
   ]
  },
  {
   "cell_type": "code",
   "execution_count": 36,
   "metadata": {},
   "outputs": [
    {
     "name": "stdout",
     "output_type": "stream",
     "text": [
      "Counter({1: 5102, 0: 771, 6: 407, 5: 391, 3: 67, 4: 58, 2: 36})\n"
     ]
    },
    {
     "data": {
      "text/plain": [
       "399"
      ]
     },
     "execution_count": 36,
     "metadata": {},
     "output_type": "execute_result"
    }
   ],
   "source": [
    "from collections import Counter\n",
    "c = Counter(y.reshape(-1).tolist())\n",
    "print(c)"
   ]
  },
  {
   "cell_type": "code",
   "execution_count": 38,
   "metadata": {},
   "outputs": [
    {
     "data": {
      "text/plain": [
       "(399, 1)"
      ]
     },
     "execution_count": 38,
     "metadata": {},
     "output_type": "execute_result"
    }
   ],
   "source": [
    "idx = np.array(np.where(y.reshape(-1) == 1))[0]\n",
    "idx = np.random.randint(0, len(idx), int((c[6] + c[5])/2))\n",
    "y[idx].shape"
   ]
  },
  {
   "cell_type": "markdown",
   "metadata": {},
   "source": [
    "#### 2.3 Convert labels to one-hot encoding"
   ]
  },
  {
   "cell_type": "code",
   "execution_count": 4,
   "metadata": {},
   "outputs": [
    {
     "name": "stderr",
     "output_type": "stream",
     "text": [
      "F:\\Python\\envs\\tensorflow\\lib\\site-packages\\h5py\\__init__.py:36: FutureWarning: Conversion of the second argument of issubdtype from `float` to `np.floating` is deprecated. In future, it will be treated as `np.float64 == np.dtype(float).type`.\n",
      "  from ._conv import register_converters as _register_converters\n",
      "Using TensorFlow backend.\n"
     ]
    },
    {
     "name": "stdout",
     "output_type": "stream",
     "text": [
      "Before:  [5]\n",
      "After:   [0. 0. 0. 0. 0. 1. 0. 0. 0.]\n"
     ]
    }
   ],
   "source": [
    "from keras.utils import to_categorical\n",
    "number_of_classes = 9\n",
    "print(\"Before: \", y[0])\n",
    "y = to_categorical(y, num_classes=number_of_classes)\n",
    "print(\"After:  \", y[0])"
   ]
  },
  {
   "cell_type": "markdown",
   "metadata": {},
   "source": [
    "#### 2.4 Split data for train and test"
   ]
  },
  {
   "cell_type": "code",
   "execution_count": 5,
   "metadata": {},
   "outputs": [
    {
     "name": "stdout",
     "output_type": "stream",
     "text": [
      "Train Data | Test Data\n",
      "   5465    |    1367   \n"
     ]
    }
   ],
   "source": [
    "seed = 1\n",
    "np.random.seed(seed)\n",
    "\n",
    "from sklearn.model_selection import train_test_split\n",
    "x_train, x_test, y_train, y_test = train_test_split(x, y, test_size=0.2, random_state=np.random)\n",
    "print(\"Train Data | Test Data\")\n",
    "print((\"{0:^10} | {1:^10}\").format(x_train.shape[0], x_test.shape[0]))"
   ]
  },
  {
   "cell_type": "markdown",
   "metadata": {},
   "source": [
    "## 3. Build Model"
   ]
  },
  {
   "cell_type": "markdown",
   "metadata": {},
   "source": [
    "#### 3.1 Import Keras and use NCHW mode"
   ]
  },
  {
   "cell_type": "code",
   "execution_count": 9,
   "metadata": {},
   "outputs": [],
   "source": [
    "from keras.models import Sequential\n",
    "from keras.layers import Dense, Dropout\n",
    "from keras.layers import Conv2D, MaxPooling2D, Flatten\n",
    "from keras.layers import BatchNormalization\n",
    "from keras.utils import np_utils\n",
    "\n",
    "from keras import backend\n",
    "backend.set_image_dim_ordering('th')"
   ]
  },
  {
   "cell_type": "markdown",
   "metadata": {},
   "source": [
    "#### 3.2 Create reusable functions"
   ]
  },
  {
   "cell_type": "code",
   "execution_count": 10,
   "metadata": {},
   "outputs": [
    {
     "name": "stdout",
     "output_type": "stream",
     "text": [
      "(6832, 1, 75, 100) (6832, 9)\n"
     ]
    }
   ],
   "source": [
    "c = x.shape[1]\n",
    "h = x.shape[2]\n",
    "w = x.shape[3]\n",
    "no_of_classes = y.shape[1]\n",
    "print(x.shape, y.shape)\n",
    "\n",
    "def train_model(model, epochs=100, batch_size=125):\n",
    "    model.fit(x_train, y_train, epochs=epochs, batch_size=batch_size)\n",
    "\n",
    "def evaluate_model(model):\n",
    "    print(\"\\n\\n\")\n",
    "    scores = model.evaluate(x_test, y_test)\n",
    "    print(\"Accuracy: \", scores[1]*100, \"%\")\n",
    "    return scores"
   ]
  },
  {
   "cell_type": "markdown",
   "metadata": {},
   "source": [
    "#### 3.3 Create a baseline model"
   ]
  },
  {
   "cell_type": "code",
   "execution_count": 11,
   "metadata": {},
   "outputs": [
    {
     "name": "stdout",
     "output_type": "stream",
     "text": [
      "Epoch 1/100\n",
      "5465/5465 [==============================] - 3s 572us/step - loss: 1.7666 - acc: 0.6578\n",
      "Epoch 2/100\n",
      "5465/5465 [==============================] - 2s 390us/step - loss: 1.0479 - acc: 0.7403\n",
      "Epoch 3/100\n",
      "5465/5465 [==============================] - 2s 382us/step - loss: 1.0011 - acc: 0.7451\n",
      "Epoch 4/100\n",
      "5465/5465 [==============================] - 2s 387us/step - loss: 0.9594 - acc: 0.7449\n",
      "Epoch 5/100\n",
      "5465/5465 [==============================] - 2s 386us/step - loss: 0.9165 - acc: 0.7482\n",
      "Epoch 6/100\n",
      "5465/5465 [==============================] - 2s 387us/step - loss: 0.8981 - acc: 0.7511\n",
      "Epoch 7/100\n",
      "5465/5465 [==============================] - 2s 383us/step - loss: 0.8565 - acc: 0.7577\n",
      "Epoch 8/100\n",
      "5465/5465 [==============================] - 2s 386us/step - loss: 0.8500 - acc: 0.7621\n",
      "Epoch 9/100\n",
      "5465/5465 [==============================] - 2s 384us/step - loss: 0.8247 - acc: 0.7630\n",
      "Epoch 10/100\n",
      "5465/5465 [==============================] - 2s 383us/step - loss: 0.7867 - acc: 0.7685\n",
      "Epoch 11/100\n",
      "5465/5465 [==============================] - 2s 389us/step - loss: 0.7749 - acc: 0.7724\n",
      "Epoch 12/100\n",
      "5465/5465 [==============================] - 2s 385us/step - loss: 0.7365 - acc: 0.7775\n",
      "Epoch 13/100\n",
      "5465/5465 [==============================] - 2s 388us/step - loss: 0.7156 - acc: 0.7815\n",
      "Epoch 14/100\n",
      "5465/5465 [==============================] - 2s 382us/step - loss: 0.6910 - acc: 0.7852\n",
      "Epoch 15/100\n",
      "5465/5465 [==============================] - 2s 381us/step - loss: 0.6902 - acc: 0.7894\n",
      "Epoch 16/100\n",
      "5465/5465 [==============================] - 2s 389us/step - loss: 0.6446 - acc: 0.7949\n",
      "Epoch 17/100\n",
      "5465/5465 [==============================] - 2s 387us/step - loss: 0.6114 - acc: 0.8016\n",
      "Epoch 18/100\n",
      "5465/5465 [==============================] - 2s 386us/step - loss: 0.6092 - acc: 0.8053\n",
      "Epoch 19/100\n",
      "5465/5465 [==============================] - 2s 384us/step - loss: 0.5916 - acc: 0.8106\n",
      "Epoch 20/100\n",
      "5465/5465 [==============================] - 2s 379us/step - loss: 0.5635 - acc: 0.8199\n",
      "Epoch 21/100\n",
      "5465/5465 [==============================] - 2s 382us/step - loss: 0.5601 - acc: 0.8143\n",
      "Epoch 22/100\n",
      "5465/5465 [==============================] - 2s 386us/step - loss: 0.5290 - acc: 0.8240\n",
      "Epoch 23/100\n",
      "5465/5465 [==============================] - 2s 382us/step - loss: 0.5059 - acc: 0.8349\n",
      "Epoch 24/100\n",
      "5465/5465 [==============================] - 2s 384us/step - loss: 0.4958 - acc: 0.8282\n",
      "Epoch 25/100\n",
      "5465/5465 [==============================] - 2s 381us/step - loss: 0.4816 - acc: 0.8300\n",
      "Epoch 26/100\n",
      "5465/5465 [==============================] - 2s 383us/step - loss: 0.4629 - acc: 0.8382\n",
      "Epoch 27/100\n",
      "5465/5465 [==============================] - 2s 384us/step - loss: 0.4596 - acc: 0.8342\n",
      "Epoch 28/100\n",
      "5465/5465 [==============================] - 2s 381us/step - loss: 0.4387 - acc: 0.8437\n",
      "Epoch 29/100\n",
      "5465/5465 [==============================] - 2s 385us/step - loss: 0.4153 - acc: 0.8485\n",
      "Epoch 30/100\n",
      "5465/5465 [==============================] - 2s 383us/step - loss: 0.4149 - acc: 0.8500\n",
      "Epoch 31/100\n",
      "5465/5465 [==============================] - 2s 383us/step - loss: 0.3962 - acc: 0.8564\n",
      "Epoch 32/100\n",
      "5465/5465 [==============================] - 2s 383us/step - loss: 0.3926 - acc: 0.8556\n",
      "Epoch 33/100\n",
      "5465/5465 [==============================] - 2s 380us/step - loss: 0.3890 - acc: 0.8496\n",
      "Epoch 34/100\n",
      "5465/5465 [==============================] - 2s 392us/step - loss: 0.3755 - acc: 0.8545\n",
      "Epoch 35/100\n",
      "5465/5465 [==============================] - 2s 397us/step - loss: 0.3691 - acc: 0.8642\n",
      "Epoch 36/100\n",
      "5465/5465 [==============================] - 2s 379us/step - loss: 0.3619 - acc: 0.8681\n",
      "Epoch 37/100\n",
      "5465/5465 [==============================] - 2s 386us/step - loss: 0.3342 - acc: 0.8710\n",
      "Epoch 38/100\n",
      "5465/5465 [==============================] - 2s 386us/step - loss: 0.3473 - acc: 0.8637\n",
      "Epoch 39/100\n",
      "5465/5465 [==============================] - 2s 382us/step - loss: 0.3081 - acc: 0.8772\n",
      "Epoch 40/100\n",
      "5465/5465 [==============================] - 2s 384us/step - loss: 0.3144 - acc: 0.8798\n",
      "Epoch 41/100\n",
      "5465/5465 [==============================] - 2s 385us/step - loss: 0.3160 - acc: 0.8750\n",
      "Epoch 42/100\n",
      "5465/5465 [==============================] - 2s 389us/step - loss: 0.3133 - acc: 0.8783\n",
      "Epoch 43/100\n",
      "5465/5465 [==============================] - 2s 382us/step - loss: 0.3094 - acc: 0.8748\n",
      "Epoch 44/100\n",
      "5465/5465 [==============================] - 2s 382us/step - loss: 0.2798 - acc: 0.8822\n",
      "Epoch 45/100\n",
      "5465/5465 [==============================] - 2s 385us/step - loss: 0.3032 - acc: 0.8814\n",
      "Epoch 46/100\n",
      "5465/5465 [==============================] - 2s 382us/step - loss: 0.3019 - acc: 0.8794\n",
      "Epoch 47/100\n",
      "5465/5465 [==============================] - 2s 378us/step - loss: 0.2745 - acc: 0.8882\n",
      "Epoch 48/100\n",
      "5465/5465 [==============================] - 2s 381us/step - loss: 0.2684 - acc: 0.8895\n",
      "Epoch 49/100\n",
      "5465/5465 [==============================] - 2s 382us/step - loss: 0.2678 - acc: 0.8931\n",
      "Epoch 50/100\n",
      "5465/5465 [==============================] - 2s 384us/step - loss: 0.2591 - acc: 0.8941\n",
      "Epoch 51/100\n",
      "5465/5465 [==============================] - 2s 384us/step - loss: 0.2587 - acc: 0.8962\n",
      "Epoch 52/100\n",
      "5465/5465 [==============================] - 2s 386us/step - loss: 0.2570 - acc: 0.8941\n",
      "Epoch 53/100\n",
      "5465/5465 [==============================] - 2s 383us/step - loss: 0.2551 - acc: 0.8939\n",
      "Epoch 54/100\n",
      "5465/5465 [==============================] - 2s 379us/step - loss: 0.2467 - acc: 0.9005\n",
      "Epoch 55/100\n",
      "5465/5465 [==============================] - 2s 381us/step - loss: 0.2361 - acc: 0.9023\n",
      "Epoch 56/100\n",
      "5465/5465 [==============================] - 2s 381us/step - loss: 0.2404 - acc: 0.8977\n",
      "Epoch 57/100\n",
      "5465/5465 [==============================] - 2s 390us/step - loss: 0.2370 - acc: 0.9012\n",
      "Epoch 58/100\n",
      "5465/5465 [==============================] - 2s 389us/step - loss: 0.2261 - acc: 0.9065\n",
      "Epoch 59/100\n",
      "5465/5465 [==============================] - 2s 387us/step - loss: 0.2305 - acc: 0.9052\n",
      "Epoch 60/100\n",
      "5465/5465 [==============================] - 2s 384us/step - loss: 0.2360 - acc: 0.9081\n",
      "Epoch 61/100\n",
      "5465/5465 [==============================] - 2s 376us/step - loss: 0.2214 - acc: 0.9059\n",
      "Epoch 62/100\n",
      "5465/5465 [==============================] - 2s 382us/step - loss: 0.2200 - acc: 0.9048\n",
      "Epoch 63/100\n",
      "5465/5465 [==============================] - 2s 384us/step - loss: 0.2089 - acc: 0.9103\n",
      "Epoch 64/100\n",
      "5465/5465 [==============================] - 2s 389us/step - loss: 0.2052 - acc: 0.9147\n",
      "Epoch 65/100\n",
      "5465/5465 [==============================] - 2s 398us/step - loss: 0.2056 - acc: 0.9124\n",
      "Epoch 66/100\n",
      "5465/5465 [==============================] - 2s 383us/step - loss: 0.2057 - acc: 0.9133\n",
      "Epoch 67/100\n",
      "5465/5465 [==============================] - 2s 386us/step - loss: 0.1988 - acc: 0.9237\n",
      "Epoch 68/100\n",
      "5465/5465 [==============================] - 2s 385us/step - loss: 0.2156 - acc: 0.9103\n",
      "Epoch 69/100\n",
      "5465/5465 [==============================] - 2s 385us/step - loss: 0.2007 - acc: 0.9134\n",
      "Epoch 70/100\n",
      "5465/5465 [==============================] - 2s 384us/step - loss: 0.2015 - acc: 0.9145\n",
      "Epoch 71/100\n",
      "5465/5465 [==============================] - 2s 389us/step - loss: 0.1857 - acc: 0.9237\n",
      "Epoch 72/100\n",
      "5465/5465 [==============================] - 2s 393us/step - loss: 0.1848 - acc: 0.9253\n",
      "Epoch 73/100\n",
      "5465/5465 [==============================] - 2s 385us/step - loss: 0.1854 - acc: 0.9231\n",
      "Epoch 74/100\n",
      "5465/5465 [==============================] - 2s 390us/step - loss: 0.1823 - acc: 0.9263\n",
      "Epoch 75/100\n",
      "5465/5465 [==============================] - 2s 392us/step - loss: 0.1811 - acc: 0.9239\n",
      "Epoch 76/100\n",
      "5465/5465 [==============================] - 2s 388us/step - loss: 0.1836 - acc: 0.9224\n",
      "Epoch 77/100\n",
      "5465/5465 [==============================] - 2s 385us/step - loss: 0.1883 - acc: 0.9160\n",
      "Epoch 78/100\n",
      "5465/5465 [==============================] - 2s 386us/step - loss: 0.1805 - acc: 0.9228\n",
      "Epoch 79/100\n",
      "5465/5465 [==============================] - 2s 387us/step - loss: 0.1647 - acc: 0.9290\n",
      "Epoch 80/100\n",
      "5465/5465 [==============================] - 2s 382us/step - loss: 0.1806 - acc: 0.9202\n",
      "Epoch 81/100\n",
      "5465/5465 [==============================] - 2s 385us/step - loss: 0.1601 - acc: 0.9308\n",
      "Epoch 82/100\n"
     ]
    },
    {
     "name": "stdout",
     "output_type": "stream",
     "text": [
      "5465/5465 [==============================] - 2s 385us/step - loss: 0.1636 - acc: 0.9312\n",
      "Epoch 83/100\n",
      "5465/5465 [==============================] - 2s 390us/step - loss: 0.1621 - acc: 0.9341\n",
      "Epoch 84/100\n",
      "5465/5465 [==============================] - 2s 393us/step - loss: 0.1808 - acc: 0.9274\n",
      "Epoch 85/100\n",
      "5465/5465 [==============================] - 2s 393us/step - loss: 0.1709 - acc: 0.9246\n",
      "Epoch 86/100\n",
      "5465/5465 [==============================] - 2s 387us/step - loss: 0.1681 - acc: 0.9319\n",
      "Epoch 87/100\n",
      "5465/5465 [==============================] - 2s 390us/step - loss: 0.1595 - acc: 0.9305\n",
      "Epoch 88/100\n",
      "5465/5465 [==============================] - 2s 385us/step - loss: 0.1545 - acc: 0.9347\n",
      "Epoch 89/100\n",
      "5465/5465 [==============================] - 2s 388us/step - loss: 0.1573 - acc: 0.9383\n",
      "Epoch 90/100\n",
      "5465/5465 [==============================] - 2s 385us/step - loss: 0.1603 - acc: 0.9327\n",
      "Epoch 91/100\n",
      "5465/5465 [==============================] - 2s 384us/step - loss: 0.1596 - acc: 0.9358\n",
      "Epoch 92/100\n",
      "5465/5465 [==============================] - 2s 387us/step - loss: 0.1439 - acc: 0.9403\n",
      "Epoch 93/100\n",
      "5465/5465 [==============================] - 2s 385us/step - loss: 0.1502 - acc: 0.9391\n",
      "Epoch 94/100\n",
      "5465/5465 [==============================] - 2s 387us/step - loss: 0.1521 - acc: 0.9361\n",
      "Epoch 95/100\n",
      "5465/5465 [==============================] - 2s 390us/step - loss: 0.1365 - acc: 0.9403\n",
      "Epoch 96/100\n",
      "5465/5465 [==============================] - 2s 382us/step - loss: 0.1447 - acc: 0.9382\n",
      "Epoch 97/100\n",
      "5465/5465 [==============================] - 2s 386us/step - loss: 0.1460 - acc: 0.9385\n",
      "Epoch 98/100\n",
      "5465/5465 [==============================] - 2s 382us/step - loss: 0.1404 - acc: 0.9427\n",
      "Epoch 99/100\n",
      "5465/5465 [==============================] - 2s 383us/step - loss: 0.1382 - acc: 0.9389\n",
      "Epoch 100/100\n",
      "5465/5465 [==============================] - 2s 388us/step - loss: 0.1468 - acc: 0.9405\n",
      "\n",
      "\n",
      "\n",
      "1367/1367 [==============================] - 1s 394us/step\n",
      "Accuracy:  84.93050477673908 %\n"
     ]
    },
    {
     "data": {
      "text/plain": [
       "[0.7955865019328767, 0.8493050477673908]"
      ]
     },
     "execution_count": 11,
     "metadata": {},
     "output_type": "execute_result"
    }
   ],
   "source": [
    "def baseline_model():\n",
    "    model = Sequential()\n",
    "    \n",
    "    model.add(Conv2D(32, (5, 5), kernel_initializer='normal', activation='relu', input_shape=(c, h, w)))\n",
    "    model.add(MaxPooling2D(pool_size=(2,2)))\n",
    "    model.add(Dropout(0.25))\n",
    "    model.add(BatchNormalization())\n",
    "    \n",
    "    model.add(Conv2D(64, (3, 3), kernel_initializer='normal', activation='relu'))\n",
    "    model.add(MaxPooling2D(pool_size=(2,2)))\n",
    "    model.add(Dropout(0.25))\n",
    "    model.add(BatchNormalization())\n",
    "    \n",
    "    model.add(Flatten())\n",
    "    model.add(Dense(128, kernel_initializer='normal', activation='relu'))\n",
    "    model.add(Dropout(0.5))\n",
    "    model.add(Dense(no_of_classes, kernel_initializer='normal', activation='softmax'))\n",
    "    \n",
    "    model.compile(loss='categorical_crossentropy', optimizer='adam', metrics=['accuracy'])\n",
    "    return model\n",
    "\n",
    "model = baseline_model()\n",
    "train_model(model)\n",
    "evaluate_model(model)"
   ]
  },
  {
   "cell_type": "markdown",
   "metadata": {},
   "source": [
    "## 4. Saving and loading model architecture and weights"
   ]
  },
  {
   "cell_type": "markdown",
   "metadata": {},
   "source": [
    "#### 4.1 Define reusable functions"
   ]
  },
  {
   "cell_type": "code",
   "execution_count": 12,
   "metadata": {},
   "outputs": [],
   "source": [
    "import h5py\n",
    "from keras.models import model_from_json\n",
    "from keras.models import load_model\n",
    "\n",
    "path_models = os.path.join(os.getcwd(), 'models')\n",
    "valid_model_files = [\".h5\", \".json\"]\n",
    "weights_suffix = '_weights.h5'\n",
    "architecture_suffix = '_architecture.json'"
   ]
  },
  {
   "cell_type": "code",
   "execution_count": 13,
   "metadata": {},
   "outputs": [],
   "source": [
    "def get_last_file_number(path):\n",
    "    numbers = [-1]\n",
    "    for file in os.listdir(path):\n",
    "        filename = os.path.splitext(file)[0]\n",
    "        ext = os.path.splitext(file)[1]\n",
    "        if ext.lower() not in valid_model_files: continue\n",
    "        if filename.startswith('model_'): \n",
    "            numbers.append(int(''.join(list(filter(str.isdigit, filename)))))\n",
    "    counter = max(numbers)\n",
    "    return counter"
   ]
  },
  {
   "cell_type": "markdown",
   "metadata": {},
   "source": [
    "#### 4.2 Save current model"
   ]
  },
  {
   "cell_type": "code",
   "execution_count": 14,
   "metadata": {},
   "outputs": [
    {
     "name": "stdout",
     "output_type": "stream",
     "text": [
      "Saving files:\n",
      "\tmodel_003_architecture.json\n",
      "\tmodel_003_weights.h5\n"
     ]
    }
   ],
   "source": [
    "counter = 0\n",
    "if not os.path.isdir(path_models): os.makedirs(path_models)\n",
    "else: counter = get_last_file_number(path_models) + 1\n",
    "\n",
    "model_name = 'model_' + '{0:03d}'.format(counter)\n",
    "model_arch_file = path_models + '\\\\' + model_name + architecture_suffix\n",
    "model_weights_file = path_models + '\\\\' + model_name + weights_suffix\n",
    "with open(model_arch_file, 'w+') as json_file:\n",
    "    json_file.write(model.to_json(indent=4))\n",
    "model.save_weights(model_weights_file)\n",
    "\n",
    "model.save(path_models + '\\\\' + model_name + '.h5')\n",
    "\n",
    "print(\"Saving files:\\n\\t\" + model_name + architecture_suffix + '\\n\\t' + model_name + weights_suffix)"
   ]
  },
  {
   "cell_type": "markdown",
   "metadata": {},
   "source": [
    "#### 4.3 Load model from file"
   ]
  },
  {
   "cell_type": "code",
   "execution_count": 15,
   "metadata": {},
   "outputs": [
    {
     "name": "stdout",
     "output_type": "stream",
     "text": [
      "Loading files:\n",
      "\tmodel_003_architecture.json\n",
      "\tmodel_003_weights.h5\n"
     ]
    }
   ],
   "source": [
    "counter = get_last_file_number(path_models)\n",
    "    \n",
    "model_name = 'model_' + '{0:03d}'.format(counter)\n",
    "model_arch_file = path_models + '\\\\' + model_name + architecture_suffix\n",
    "model_weights_file = path_models + '\\\\' + model_name + architecture_suffix\n",
    "\n",
    "print(\"Loading files:\\n\\t\" + model_name + architecture_suffix + '\\n\\t' + model_name + weights_suffix)\n",
    "\n",
    "if not os.path.isfile(model_arch_file):\n",
    "    print('Could not find', model_arch_file)\n",
    "elif not os.path.isfile(model_weights_file):\n",
    "    print('Could not find', model_weights_file)\n",
    "else:\n",
    "#     with open(model_arch_file, 'r') as json_file:\n",
    "#         model_loaded = model_from_json(json_file.read())\n",
    "#     model_loaded.load_weights(model_weights_file)\n",
    "    model_loaded = load_model(path_models + '\\\\' + model_name + '.h5')"
   ]
  },
  {
   "cell_type": "code",
   "execution_count": 16,
   "metadata": {},
   "outputs": [
    {
     "name": "stdout",
     "output_type": "stream",
     "text": [
      "\n",
      "\n",
      "\n",
      "1367/1367 [==============================] - 1s 400us/step\n",
      "Accuracy:  84.93050477673908 %\n"
     ]
    },
    {
     "data": {
      "text/plain": [
       "[0.7955865019328767, 0.8493050477673908]"
      ]
     },
     "execution_count": 16,
     "metadata": {},
     "output_type": "execute_result"
    }
   ],
   "source": [
    "evaluate_model(model_loaded)"
   ]
  },
  {
   "cell_type": "code",
   "execution_count": 17,
   "metadata": {},
   "outputs": [
    {
     "data": {
      "text/plain": [
       "5"
      ]
     },
     "execution_count": 17,
     "metadata": {},
     "output_type": "execute_result"
    }
   ],
   "source": [
    "np.argmax(model.predict(x[0][:, None]))"
   ]
  },
  {
   "cell_type": "code",
   "execution_count": 18,
   "metadata": {},
   "outputs": [
    {
     "data": {
      "text/plain": [
       "(75, 100)"
      ]
     },
     "execution_count": 18,
     "metadata": {},
     "output_type": "execute_result"
    }
   ],
   "source": [
    "sample = np.zeros((75,100))\n",
    "sample.shape"
   ]
  },
  {
   "cell_type": "code",
   "execution_count": 19,
   "metadata": {},
   "outputs": [
    {
     "data": {
      "text/plain": [
       "(1, 1, 75, 100)"
      ]
     },
     "execution_count": 19,
     "metadata": {},
     "output_type": "execute_result"
    }
   ],
   "source": [
    "sample[None, None, :].shape"
   ]
  },
  {
   "cell_type": "code",
   "execution_count": null,
   "metadata": {},
   "outputs": [],
   "source": []
  }
 ],
 "metadata": {
  "kernelspec": {
   "display_name": "Python 3",
   "language": "python",
   "name": "python3"
  },
  "language_info": {
   "codemirror_mode": {
    "name": "ipython",
    "version": 3
   },
   "file_extension": ".py",
   "mimetype": "text/x-python",
   "name": "python",
   "nbconvert_exporter": "python",
   "pygments_lexer": "ipython3",
   "version": "3.6.4"
  }
 },
 "nbformat": 4,
 "nbformat_minor": 2
}
