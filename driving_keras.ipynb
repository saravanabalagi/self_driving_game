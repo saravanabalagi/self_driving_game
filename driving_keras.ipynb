{
 "cells": [
  {
   "cell_type": "code",
   "execution_count": 52,
   "metadata": {},
   "outputs": [],
   "source": [
    "from tensorflow.examples.tutorials.mnist import input_data"
   ]
  },
  {
   "cell_type": "code",
   "execution_count": 73,
   "metadata": {},
   "outputs": [],
   "source": [
    "import numpy as np\n",
    "from keras.datasets import mnist\n",
    "from keras.models import Sequential\n",
    "from keras.layers import Dense, Dropout\n",
    "from keras.layers import Conv2D, MaxPooling2D, Flatten\n",
    "from keras.utils import np_utils\n",
    "\n",
    "seed = 1\n",
    "np.random.seed(seed)"
   ]
  },
  {
   "cell_type": "code",
   "execution_count": 74,
   "metadata": {},
   "outputs": [],
   "source": [
    "from keras import backend\n",
    "backend.set_image_dim_ordering('th')"
   ]
  },
  {
   "cell_type": "code",
   "execution_count": 75,
   "metadata": {},
   "outputs": [
    {
     "name": "stdout",
     "output_type": "stream",
     "text": [
      "Train Data | Test Data\n",
      "  60000    |   10000   \n"
     ]
    }
   ],
   "source": [
    "(x_train, y_train), (x_test, y_test) = mnist.load_data()\n",
    "no_of_pixels = x_train.shape[1] * x_train.shape[2]\n",
    "x_train = x_train.reshape(x_train.shape[0], 1, x_train.shape[1], x_train.shape[2])\n",
    "x_test = x_test.reshape(x_test.shape[0], 1, x_test.shape[1], x_test.shape[2])\n",
    "print(\"Train Data | Test Data\")\n",
    "print((\"{0:^10} | {1:^10}\").format(x_train.shape[0], x_test.shape[0]))"
   ]
  },
  {
   "cell_type": "code",
   "execution_count": 76,
   "metadata": {},
   "outputs": [
    {
     "data": {
      "image/png": "[encoded data removed]",
      "text/plain": [
       "<matplotlib.figure.Figure at 0x1ff12b3f160>"
      ]
     },
     "metadata": {},
     "output_type": "display_data"
    }
   ],
   "source": [
    "import matplotlib.pyplot as plt\n",
    "_, axis = plt.subplots(10,10)\n",
    "for i in range(10):\n",
    "    for j in range(10):\n",
    "        axis[i,j].imshow(x_train[i*10+j].reshape(28,28), cmap='Greys')\n",
    "        axis[i,j].axis('off')"
   ]
  },
  {
   "cell_type": "code",
   "execution_count": 77,
   "metadata": {},
   "outputs": [],
   "source": [
    "# Normalize images\n",
    "x_train = x_train / 255\n",
    "x_test = x_test / 255"
   ]
  },
  {
   "cell_type": "code",
   "execution_count": 78,
   "metadata": {},
   "outputs": [
    {
     "name": "stdout",
     "output_type": "stream",
     "text": [
      "Before:  5\n",
      "After:   [0. 0. 0. 0. 0. 1. 0. 0. 0. 0.]\n"
     ]
    }
   ],
   "source": [
    "print(\"Before: \", y_train[0])\n",
    "y_train = np_utils.to_categorical(y_train)\n",
    "y_test = np_utils.to_categorical(y_test)\n",
    "print(\"After:  \", y_train[0])"
   ]
  },
  {
   "cell_type": "code",
   "execution_count": 79,
   "metadata": {},
   "outputs": [
    {
     "name": "stdout",
     "output_type": "stream",
     "text": [
      "Number of classes:  10\n"
     ]
    }
   ],
   "source": [
    "no_of_classes = y_train.shape[1]\n",
    "print(\"Number of classes: \", no_of_classes)"
   ]
  },
  {
   "cell_type": "code",
   "execution_count": 82,
   "metadata": {},
   "outputs": [],
   "source": [
    "def baseline_model():\n",
    "    model = Sequential()\n",
    "    \n",
    "    model.add(Conv2D(32, (5, 5), kernel_initializer='normal', activation='relu', input_shape=(1,28,28)))\n",
    "    model.add(MaxPooling2D(pool_size=(2,2)))\n",
    "    model.add(Dropout(0.25))\n",
    "    \n",
    "    model.add(Flatten())\n",
    "    model.add(Dense(128, kernel_initializer='normal', activation='relu'))\n",
    "    model.add(Dropout(0.5))\n",
    "    model.add(Dense(10, kernel_initializer='normal', activation='softmax'))\n",
    "    \n",
    "    model.compile(loss='categorical_crossentropy', optimizer='adam', metrics=['accuracy'])\n",
    "    return model"
   ]
  },
  {
   "cell_type": "code",
   "execution_count": 83,
   "metadata": {},
   "outputs": [
    {
     "name": "stdout",
     "output_type": "stream",
     "text": [
      "Epoch 1/10\n",
      "60000/60000 [==============================] - 5s 75us/step - loss: 0.3498 - acc: 0.8954\n",
      "Epoch 2/10\n",
      "60000/60000 [==============================] - 4s 70us/step - loss: 0.1209 - acc: 0.9639\n",
      "Epoch 3/10\n",
      "60000/60000 [==============================] - 4s 69us/step - loss: 0.0902 - acc: 0.9726\n",
      "Epoch 4/10\n",
      "60000/60000 [==============================] - 4s 69us/step - loss: 0.0733 - acc: 0.9777\n",
      "Epoch 5/10\n",
      "60000/60000 [==============================] - 4s 69us/step - loss: 0.0654 - acc: 0.9798\n",
      "Epoch 6/10\n",
      "60000/60000 [==============================] - 4s 70us/step - loss: 0.0567 - acc: 0.9826\n",
      "Epoch 7/10\n",
      "60000/60000 [==============================] - 4s 70us/step - loss: 0.0520 - acc: 0.9834\n",
      "Epoch 8/10\n",
      "60000/60000 [==============================] - 4s 70us/step - loss: 0.0470 - acc: 0.9852\n",
      "Epoch 9/10\n",
      "60000/60000 [==============================] - 4s 70us/step - loss: 0.0437 - acc: 0.9862\n",
      "Epoch 10/10\n",
      "60000/60000 [==============================] - 4s 69us/step - loss: 0.0406 - acc: 0.9873\n"
     ]
    },
    {
     "data": {
      "text/plain": [
       "<keras.callbacks.History at 0x1ff0dd02b38>"
      ]
     },
     "execution_count": 83,
     "metadata": {},
     "output_type": "execute_result"
    }
   ],
   "source": [
    "model = baseline_model()\n",
    "model.fit(x_train, y_train, epochs=10, batch_size=125)"
   ]
  },
  {
   "cell_type": "code",
   "execution_count": 84,
   "metadata": {},
   "outputs": [
    {
     "name": "stdout",
     "output_type": "stream",
     "text": [
      "10000/10000 [==============================] - 1s 108us/step\n",
      "Accuracy:  98.87 %\n"
     ]
    }
   ],
   "source": [
    "scores = model.evaluate(x_test, y_test)\n",
    "print(\"Accuracy: \", scores[1]*100, \"%\")"
   ]
  },
  {
   "cell_type": "code",
   "execution_count": 125,
   "metadata": {},
   "outputs": [],
   "source": [
    "def deeper_model():\n",
    "    model = Sequential()\n",
    "    \n",
    "    model.add(Conv2D(32, (7, 7), kernel_initializer='normal', activation='relu', input_shape=(1,28,28)))\n",
    "    # model.add(MaxPooling2D(pool_size=(2,2)))\n",
    "    model.add(Dropout(0.25))\n",
    "    \n",
    "    model.add(Conv2D(64, (5, 5), kernel_initializer='normal', activation='relu'))\n",
    "    model.add(MaxPooling2D(pool_size=(2,2)))\n",
    "    model.add(Dropout(0.25))\n",
    "    \n",
    "    model.add(Conv2D(128, (3, 3), kernel_initializer='normal', activation='relu'))\n",
    "    model.add(MaxPooling2D(pool_size=(2,2)))\n",
    "    model.add(Dropout(0.25))\n",
    "    \n",
    "    model.add(Flatten())\n",
    "    model.add(Dense(512, kernel_initializer='normal', activation='relu'))\n",
    "    model.add(Dropout(0.3))\n",
    "    model.add(Dense(128, kernel_initializer='normal', activation='relu'))\n",
    "    model.add(Dropout(0.5))\n",
    "    model.add(Dense(10, kernel_initializer='normal', activation='softmax'))\n",
    "    \n",
    "    model.compile(loss='categorical_crossentropy', optimizer='adam', metrics=['accuracy'])\n",
    "    return model"
   ]
  },
  {
   "cell_type": "code",
   "execution_count": 126,
   "metadata": {},
   "outputs": [
    {
     "name": "stdout",
     "output_type": "stream",
     "text": [
      "Epoch 1/10\n",
      "60000/60000 [==============================] - 9s 146us/step - loss: 0.3581 - acc: 0.8839\n",
      "Epoch 2/10\n",
      "60000/60000 [==============================] - 7s 125us/step - loss: 0.0926 - acc: 0.9736\n",
      "Epoch 3/10\n",
      "60000/60000 [==============================] - 8s 125us/step - loss: 0.0668 - acc: 0.9808\n",
      "Epoch 4/10\n",
      "60000/60000 [==============================] - 8s 127us/step - loss: 0.0561 - acc: 0.9843\n",
      "Epoch 5/10\n",
      "60000/60000 [==============================] - 8s 127us/step - loss: 0.0496 - acc: 0.9867\n",
      "Epoch 6/10\n",
      "60000/60000 [==============================] - 8s 127us/step - loss: 0.0425 - acc: 0.9885\n",
      "Epoch 7/10\n",
      "60000/60000 [==============================] - 8s 129us/step - loss: 0.0393 - acc: 0.9891\n",
      "Epoch 8/10\n",
      "60000/60000 [==============================] - 7s 124us/step - loss: 0.0360 - acc: 0.9897\n",
      "Epoch 9/10\n",
      "60000/60000 [==============================] - 8s 129us/step - loss: 0.0315 - acc: 0.9910\n",
      "Epoch 10/10\n",
      "60000/60000 [==============================] - 8s 126us/step - loss: 0.0315 - acc: 0.9916\n"
     ]
    },
    {
     "data": {
      "text/plain": [
       "<keras.callbacks.History at 0x20123cb5710>"
      ]
     },
     "execution_count": 126,
     "metadata": {},
     "output_type": "execute_result"
    }
   ],
   "source": [
    "deeper_model = deeper_model()\n",
    "deeper_model.fit(x_train, y_train, epochs=10, batch_size=125)"
   ]
  },
  {
   "cell_type": "code",
   "execution_count": 127,
   "metadata": {},
   "outputs": [
    {
     "name": "stdout",
     "output_type": "stream",
     "text": [
      "10000/10000 [==============================] - 2s 158us/step\n",
      "Accuracy:  99.37 %\n"
     ]
    }
   ],
   "source": [
    "scores = deeper_model.evaluate(x_test, y_test)\n",
    "print(\"Accuracy: \", scores[1]*100, \"%\")"
   ]
  },
  {
   "cell_type": "code",
   "execution_count": null,
   "metadata": {},
   "outputs": [],
   "source": []
  }
 ],
 "metadata": {
  "kernelspec": {
   "display_name": "Python 3",
   "language": "python",
   "name": "python3"
  },
  "language_info": {
   "codemirror_mode": {
    "name": "ipython",
    "version": 3
   },
   "file_extension": ".py",
   "mimetype": "text/x-python",
   "name": "python",
   "nbconvert_exporter": "python",
   "pygments_lexer": "ipython3",
   "version": "3.6.4"
  }
 },
 "nbformat": 4,
 "nbformat_minor": 2
}
