{
 "cells": [
  {
   "cell_type": "markdown",
   "metadata": {},
   "source": [
    "## 1. Load Data"
   ]
  },
  {
   "cell_type": "markdown",
   "metadata": {},
   "source": [
    "#### 1.1 Import images"
   ]
  },
  {
   "cell_type": "code",
   "execution_count": 1,
   "metadata": {},
   "outputs": [
    {
     "data": {
      "text/plain": [
       "(1481, 1, 75, 100)"
      ]
     },
     "execution_count": 1,
     "metadata": {},
     "output_type": "execute_result"
    }
   ],
   "source": [
    "import os\n",
    "import cv2\n",
    "import numpy as np\n",
    "\n",
    "path_img_src = os.path.join(os.getcwd(), 'data/processed')\n",
    "valid_images = [\".jpg\",\".gif\",\".png\",\".tga\"]\n",
    "x = []\n",
    "for file in os.listdir(path_img_src):\n",
    "    ext = os.path.splitext(file)[1]\n",
    "    if ext.lower() not in valid_images: continue\n",
    "    img = cv2.imread(os.path.join(path_img_src,file), cv2.IMREAD_GRAYSCALE)\n",
    "    x.append(img)\n",
    "x = np.array(x)\n",
    "x = x.reshape(x.shape[0], 1, x.shape[1], x.shape[2])\n",
    "x.shape"
   ]
  },
  {
   "cell_type": "markdown",
   "metadata": {},
   "source": [
    "#### 1.2 Import labels"
   ]
  },
  {
   "cell_type": "code",
   "execution_count": 2,
   "metadata": {},
   "outputs": [
    {
     "data": {
      "text/plain": [
       "(1481, 1)"
      ]
     },
     "execution_count": 2,
     "metadata": {},
     "output_type": "execute_result"
    }
   ],
   "source": [
    "path_labels_src = os.path.join(os.getcwd(), 'data')\n",
    "y = []\n",
    "with open(os.path.join(path_labels_src, 'labels.txt'), \"r\") as labels_file:\n",
    "    for line in labels_file:\n",
    "        y.append(int(line.rstrip('\\n')))\n",
    "y = np.array(y[:x.shape[0]]).reshape(-1,1)\n",
    "y.shape"
   ]
  },
  {
   "cell_type": "markdown",
   "metadata": {},
   "source": [
    "## 2. Preprocess Data"
   ]
  },
  {
   "cell_type": "markdown",
   "metadata": {},
   "source": [
    "#### 2.1 Normalize images"
   ]
  },
  {
   "cell_type": "code",
   "execution_count": 3,
   "metadata": {},
   "outputs": [
    {
     "data": {
      "text/plain": [
       "(0.0, 1.0)"
      ]
     },
     "execution_count": 3,
     "metadata": {},
     "output_type": "execute_result"
    }
   ],
   "source": [
    "x = x / 255\n",
    "np.min(x), np.max(x)"
   ]
  },
  {
   "cell_type": "markdown",
   "metadata": {},
   "source": [
    "#### 2.2 Convert labels to one-hot encoding"
   ]
  },
  {
   "cell_type": "code",
   "execution_count": 4,
   "metadata": {},
   "outputs": [
    {
     "name": "stderr",
     "output_type": "stream",
     "text": [
      "F:\\Python\\envs\\tensorflow\\lib\\site-packages\\h5py\\__init__.py:36: FutureWarning: Conversion of the second argument of issubdtype from `float` to `np.floating` is deprecated. In future, it will be treated as `np.float64 == np.dtype(float).type`.\n",
      "  from ._conv import register_converters as _register_converters\n",
      "Using TensorFlow backend.\n"
     ]
    },
    {
     "name": "stdout",
     "output_type": "stream",
     "text": [
      "Before:  [5]\n",
      "After:   [0. 0. 0. 0. 0. 1. 0. 0.]\n"
     ]
    }
   ],
   "source": [
    "from keras.utils import to_categorical\n",
    "print(\"Before: \", y[0])\n",
    "y = to_categorical(y)\n",
    "print(\"After:  \", y[0])"
   ]
  },
  {
   "cell_type": "markdown",
   "metadata": {},
   "source": [
    "#### 2.3 Split data for train and test"
   ]
  },
  {
   "cell_type": "code",
   "execution_count": 5,
   "metadata": {},
   "outputs": [
    {
     "name": "stdout",
     "output_type": "stream",
     "text": [
      "Train Data | Test Data\n",
      "   1184    |    297    \n"
     ]
    }
   ],
   "source": [
    "seed = 1\n",
    "np.random.seed(seed)\n",
    "\n",
    "from sklearn.model_selection import train_test_split\n",
    "x_train, x_test, y_train, y_test = train_test_split(x, y, test_size=0.2, random_state=np.random)\n",
    "print(\"Train Data | Test Data\")\n",
    "print((\"{0:^10} | {1:^10}\").format(x_train.shape[0], x_test.shape[0]))"
   ]
  },
  {
   "cell_type": "markdown",
   "metadata": {},
   "source": [
    "## 3. Build Model"
   ]
  },
  {
   "cell_type": "markdown",
   "metadata": {},
   "source": [
    "#### 3.1 Import Keras and use NCHW mode"
   ]
  },
  {
   "cell_type": "code",
   "execution_count": 6,
   "metadata": {},
   "outputs": [],
   "source": [
    "from keras.models import Sequential\n",
    "from keras.layers import Dense, Dropout\n",
    "from keras.layers import Conv2D, MaxPooling2D, Flatten\n",
    "from keras.utils import np_utils\n",
    "\n",
    "from keras import backend\n",
    "backend.set_image_dim_ordering('th')"
   ]
  },
  {
   "cell_type": "markdown",
   "metadata": {},
   "source": [
    "#### 3.2 Create reusable functions"
   ]
  },
  {
   "cell_type": "code",
   "execution_count": 7,
   "metadata": {},
   "outputs": [
    {
     "name": "stdout",
     "output_type": "stream",
     "text": [
      "(1481, 1, 75, 100) (1481, 8)\n"
     ]
    }
   ],
   "source": [
    "c = x.shape[1]\n",
    "h = x.shape[2]\n",
    "w = x.shape[3]\n",
    "no_of_classes = y.shape[1]\n",
    "print(x.shape, y.shape)\n",
    "\n",
    "def train_model(model, epochs=100, batch_size=125):\n",
    "    model.fit(x_train, y_train, epochs=epochs, batch_size=batch_size)\n",
    "\n",
    "def evaluate_model(model):\n",
    "    print(\"\\n\\n\")\n",
    "    scores = model.evaluate(x_test, y_test)\n",
    "    print(\"Accuracy: \", scores[1]*100, \"%\")\n",
    "    return scores"
   ]
  },
  {
   "cell_type": "markdown",
   "metadata": {},
   "source": [
    "#### 3.3 Create a baseline model"
   ]
  },
  {
   "cell_type": "code",
   "execution_count": 8,
   "metadata": {},
   "outputs": [
    {
     "name": "stdout",
     "output_type": "stream",
     "text": [
      "Epoch 1/100\n",
      "1184/1184 [==============================] - 2s 2ms/step - loss: 1.7389 - acc: 0.3910\n",
      "Epoch 2/100\n",
      "1184/1184 [==============================] - 0s 303us/step - loss: 1.4005 - acc: 0.4426\n",
      "Epoch 3/100\n",
      "1184/1184 [==============================] - 0s 290us/step - loss: 1.3463 - acc: 0.4620\n",
      "Epoch 4/100\n",
      "1184/1184 [==============================] - 0s 292us/step - loss: 1.2951 - acc: 0.4890\n",
      "Epoch 5/100\n",
      "1184/1184 [==============================] - 0s 303us/step - loss: 1.2466 - acc: 0.5372\n",
      "Epoch 6/100\n",
      "1184/1184 [==============================] - 0s 289us/step - loss: 1.2044 - acc: 0.5836\n",
      "Epoch 7/100\n",
      "1184/1184 [==============================] - 0s 296us/step - loss: 1.1542 - acc: 0.6022\n",
      "Epoch 8/100\n",
      "1184/1184 [==============================] - 0s 295us/step - loss: 1.0964 - acc: 0.6123\n",
      "Epoch 9/100\n",
      "1184/1184 [==============================] - 0s 298us/step - loss: 1.0355 - acc: 0.6486\n",
      "Epoch 10/100\n",
      "1184/1184 [==============================] - 0s 316us/step - loss: 0.9802 - acc: 0.6833\n",
      "Epoch 11/100\n",
      "1184/1184 [==============================] - 0s 295us/step - loss: 0.9299 - acc: 0.6875\n",
      "Epoch 12/100\n",
      "1184/1184 [==============================] - 0s 290us/step - loss: 0.8718 - acc: 0.6976\n",
      "Epoch 13/100\n",
      "1184/1184 [==============================] - 0s 302us/step - loss: 0.7939 - acc: 0.7306\n",
      "Epoch 14/100\n",
      "1184/1184 [==============================] - 0s 286us/step - loss: 0.7598 - acc: 0.7280\n",
      "Epoch 15/100\n",
      "1184/1184 [==============================] - 0s 290us/step - loss: 0.7165 - acc: 0.7432\n",
      "Epoch 16/100\n",
      "1184/1184 [==============================] - 0s 298us/step - loss: 0.6813 - acc: 0.7669\n",
      "Epoch 17/100\n",
      "1184/1184 [==============================] - 0s 289us/step - loss: 0.6337 - acc: 0.7762\n",
      "Epoch 18/100\n",
      "1184/1184 [==============================] - 0s 295us/step - loss: 0.5783 - acc: 0.7973\n",
      "Epoch 19/100\n",
      "1184/1184 [==============================] - 0s 299us/step - loss: 0.5361 - acc: 0.8150\n",
      "Epoch 20/100\n",
      "1184/1184 [==============================] - 0s 288us/step - loss: 0.4898 - acc: 0.8277\n",
      "Epoch 21/100\n",
      "1184/1184 [==============================] - 0s 293us/step - loss: 0.4808 - acc: 0.8328\n",
      "Epoch 22/100\n",
      "1184/1184 [==============================] - 0s 307us/step - loss: 0.4424 - acc: 0.8446\n",
      "Epoch 23/100\n",
      "1184/1184 [==============================] - 0s 286us/step - loss: 0.4093 - acc: 0.8640\n",
      "Epoch 24/100\n",
      "1184/1184 [==============================] - 0s 308us/step - loss: 0.4060 - acc: 0.8632\n",
      "Epoch 25/100\n",
      "1184/1184 [==============================] - 0s 300us/step - loss: 0.3482 - acc: 0.8902\n",
      "Epoch 26/100\n",
      "1184/1184 [==============================] - 0s 292us/step - loss: 0.3366 - acc: 0.8809\n",
      "Epoch 27/100\n",
      "1184/1184 [==============================] - 0s 293us/step - loss: 0.3179 - acc: 0.8919\n",
      "Epoch 28/100\n",
      "1184/1184 [==============================] - 0s 307us/step - loss: 0.2976 - acc: 0.8978\n",
      "Epoch 29/100\n",
      "1184/1184 [==============================] - 0s 289us/step - loss: 0.2812 - acc: 0.9054\n",
      "Epoch 30/100\n",
      "1184/1184 [==============================] - 0s 299us/step - loss: 0.2572 - acc: 0.9172\n",
      "Epoch 31/100\n",
      "1184/1184 [==============================] - 0s 299us/step - loss: 0.2380 - acc: 0.9240\n",
      "Epoch 32/100\n",
      "1184/1184 [==============================] - 0s 295us/step - loss: 0.2278 - acc: 0.9307\n",
      "Epoch 33/100\n",
      "1184/1184 [==============================] - 0s 290us/step - loss: 0.2386 - acc: 0.9198\n",
      "Epoch 34/100\n",
      "1184/1184 [==============================] - 0s 307us/step - loss: 0.2282 - acc: 0.9206\n",
      "Epoch 35/100\n",
      "1184/1184 [==============================] - 0s 293us/step - loss: 0.2167 - acc: 0.9257\n",
      "Epoch 36/100\n",
      "1184/1184 [==============================] - 0s 291us/step - loss: 0.1993 - acc: 0.9417\n",
      "Epoch 37/100\n",
      "1184/1184 [==============================] - 0s 294us/step - loss: 0.1912 - acc: 0.9417\n",
      "Epoch 38/100\n",
      "1184/1184 [==============================] - 0s 290us/step - loss: 0.1789 - acc: 0.9535\n",
      "Epoch 39/100\n",
      "1184/1184 [==============================] - 0s 291us/step - loss: 0.1569 - acc: 0.9569\n",
      "Epoch 40/100\n",
      "1184/1184 [==============================] - 0s 295us/step - loss: 0.1604 - acc: 0.9510\n",
      "Epoch 41/100\n",
      "1184/1184 [==============================] - 0s 285us/step - loss: 0.1463 - acc: 0.9535\n",
      "Epoch 42/100\n",
      "1184/1184 [==============================] - 0s 289us/step - loss: 0.1524 - acc: 0.9569\n",
      "Epoch 43/100\n",
      "1184/1184 [==============================] - 0s 291us/step - loss: 0.1337 - acc: 0.9679\n",
      "Epoch 44/100\n",
      "1184/1184 [==============================] - 0s 287us/step - loss: 0.1412 - acc: 0.9569\n",
      "Epoch 45/100\n",
      "1184/1184 [==============================] - 0s 297us/step - loss: 0.1283 - acc: 0.9611\n",
      "Epoch 46/100\n",
      "1184/1184 [==============================] - 0s 300us/step - loss: 0.1254 - acc: 0.9671\n",
      "Epoch 47/100\n",
      "1184/1184 [==============================] - 0s 292us/step - loss: 0.1159 - acc: 0.9704\n",
      "Epoch 48/100\n",
      "1184/1184 [==============================] - 0s 296us/step - loss: 0.1055 - acc: 0.9696\n",
      "Epoch 49/100\n",
      "1184/1184 [==============================] - 0s 300us/step - loss: 0.1070 - acc: 0.9704\n",
      "Epoch 50/100\n",
      "1184/1184 [==============================] - 0s 296us/step - loss: 0.0989 - acc: 0.9797\n",
      "Epoch 51/100\n",
      "1184/1184 [==============================] - 0s 289us/step - loss: 0.1075 - acc: 0.9696\n",
      "Epoch 52/100\n",
      "1184/1184 [==============================] - 0s 286us/step - loss: 0.1037 - acc: 0.9721\n",
      "Epoch 53/100\n",
      "1184/1184 [==============================] - 0s 293us/step - loss: 0.0940 - acc: 0.9721\n",
      "Epoch 54/100\n",
      "1184/1184 [==============================] - 0s 285us/step - loss: 0.0924 - acc: 0.9696\n",
      "Epoch 55/100\n",
      "1184/1184 [==============================] - 0s 299us/step - loss: 0.0925 - acc: 0.9679\n",
      "Epoch 56/100\n",
      "1184/1184 [==============================] - 0s 296us/step - loss: 0.0943 - acc: 0.9713\n",
      "Epoch 57/100\n",
      "1184/1184 [==============================] - 0s 303us/step - loss: 0.0844 - acc: 0.9806\n",
      "Epoch 58/100\n",
      "1184/1184 [==============================] - 0s 290us/step - loss: 0.0879 - acc: 0.9755\n",
      "Epoch 59/100\n",
      "1184/1184 [==============================] - 0s 293us/step - loss: 0.0778 - acc: 0.9797\n",
      "Epoch 60/100\n",
      "1184/1184 [==============================] - 0s 305us/step - loss: 0.0762 - acc: 0.9780\n",
      "Epoch 61/100\n",
      "1184/1184 [==============================] - 0s 288us/step - loss: 0.0737 - acc: 0.9831\n",
      "Epoch 62/100\n",
      "1184/1184 [==============================] - 0s 292us/step - loss: 0.0794 - acc: 0.9755\n",
      "Epoch 63/100\n",
      "1184/1184 [==============================] - 0s 291us/step - loss: 0.0915 - acc: 0.9696\n",
      "Epoch 64/100\n",
      "1184/1184 [==============================] - 0s 307us/step - loss: 0.0769 - acc: 0.9806\n",
      "Epoch 65/100\n",
      "1184/1184 [==============================] - 0s 299us/step - loss: 0.0655 - acc: 0.9814\n",
      "Epoch 66/100\n",
      "1184/1184 [==============================] - 0s 303us/step - loss: 0.0710 - acc: 0.9789\n",
      "Epoch 67/100\n",
      "1184/1184 [==============================] - 0s 304us/step - loss: 0.0785 - acc: 0.9789\n",
      "Epoch 68/100\n",
      "1184/1184 [==============================] - 0s 299us/step - loss: 0.0790 - acc: 0.9755\n",
      "Epoch 69/100\n",
      "1184/1184 [==============================] - 0s 308us/step - loss: 0.0754 - acc: 0.9755\n",
      "Epoch 70/100\n",
      "1184/1184 [==============================] - 0s 305us/step - loss: 0.0707 - acc: 0.9755\n",
      "Epoch 71/100\n",
      "1184/1184 [==============================] - 0s 291us/step - loss: 0.0678 - acc: 0.9772\n",
      "Epoch 72/100\n",
      "1184/1184 [==============================] - 0s 305us/step - loss: 0.0624 - acc: 0.9814\n",
      "Epoch 73/100\n",
      "1184/1184 [==============================] - 0s 297us/step - loss: 0.0646 - acc: 0.9806\n",
      "Epoch 74/100\n",
      "1184/1184 [==============================] - 0s 301us/step - loss: 0.0664 - acc: 0.9755\n",
      "Epoch 75/100\n",
      "1184/1184 [==============================] - 0s 297us/step - loss: 0.0629 - acc: 0.9856\n",
      "Epoch 76/100\n",
      "1184/1184 [==============================] - 0s 306us/step - loss: 0.0671 - acc: 0.9772\n",
      "Epoch 77/100\n",
      "1184/1184 [==============================] - 0s 291us/step - loss: 0.0643 - acc: 0.9764\n",
      "Epoch 78/100\n",
      "1184/1184 [==============================] - 0s 297us/step - loss: 0.0520 - acc: 0.9814\n",
      "Epoch 79/100\n",
      "1184/1184 [==============================] - 0s 300us/step - loss: 0.0629 - acc: 0.9814\n",
      "Epoch 80/100\n",
      "1184/1184 [==============================] - 0s 293us/step - loss: 0.0595 - acc: 0.9823\n",
      "Epoch 81/100\n",
      "1184/1184 [==============================] - 0s 293us/step - loss: 0.0661 - acc: 0.9780\n",
      "Epoch 82/100\n"
     ]
    },
    {
     "name": "stdout",
     "output_type": "stream",
     "text": [
      "1184/1184 [==============================] - 0s 301us/step - loss: 0.0520 - acc: 0.9873\n",
      "Epoch 83/100\n",
      "1184/1184 [==============================] - 0s 298us/step - loss: 0.0559 - acc: 0.9840\n",
      "Epoch 84/100\n",
      "1184/1184 [==============================] - 0s 295us/step - loss: 0.0516 - acc: 0.9789\n",
      "Epoch 85/100\n",
      "1184/1184 [==============================] - 0s 309us/step - loss: 0.0538 - acc: 0.9831\n",
      "Epoch 86/100\n",
      "1184/1184 [==============================] - 0s 292us/step - loss: 0.0504 - acc: 0.9840\n",
      "Epoch 87/100\n",
      "1184/1184 [==============================] - 0s 303us/step - loss: 0.0567 - acc: 0.9814\n",
      "Epoch 88/100\n",
      "1184/1184 [==============================] - 0s 295us/step - loss: 0.0492 - acc: 0.9823\n",
      "Epoch 89/100\n",
      "1184/1184 [==============================] - 0s 295us/step - loss: 0.0552 - acc: 0.9780\n",
      "Epoch 90/100\n",
      "1184/1184 [==============================] - 0s 301us/step - loss: 0.0544 - acc: 0.9806\n",
      "Epoch 91/100\n",
      "1184/1184 [==============================] - 0s 299us/step - loss: 0.0540 - acc: 0.9789\n",
      "Epoch 92/100\n",
      "1184/1184 [==============================] - 0s 296us/step - loss: 0.0492 - acc: 0.9797\n",
      "Epoch 93/100\n",
      "1184/1184 [==============================] - 0s 295us/step - loss: 0.0470 - acc: 0.9831\n",
      "Epoch 94/100\n",
      "1184/1184 [==============================] - 0s 292us/step - loss: 0.0500 - acc: 0.9840\n",
      "Epoch 95/100\n",
      "1184/1184 [==============================] - 0s 302us/step - loss: 0.0405 - acc: 0.9856\n",
      "Epoch 96/100\n",
      "1184/1184 [==============================] - 0s 296us/step - loss: 0.0501 - acc: 0.9856\n",
      "Epoch 97/100\n",
      "1184/1184 [==============================] - 0s 292us/step - loss: 0.0510 - acc: 0.9831\n",
      "Epoch 98/100\n",
      "1184/1184 [==============================] - 0s 293us/step - loss: 0.0469 - acc: 0.9848\n",
      "Epoch 99/100\n",
      "1184/1184 [==============================] - 0s 296us/step - loss: 0.0556 - acc: 0.9806\n",
      "Epoch 100/100\n",
      "1184/1184 [==============================] - 0s 293us/step - loss: 0.0500 - acc: 0.9823\n",
      "\n",
      "\n",
      "\n",
      "297/297 [==============================] - 0s 505us/step\n",
      "Accuracy:  73.73737377751155 %\n"
     ]
    },
    {
     "data": {
      "text/plain": [
       "[1.5198379100773873, 0.7373737377751155]"
      ]
     },
     "execution_count": 8,
     "metadata": {},
     "output_type": "execute_result"
    }
   ],
   "source": [
    "def baseline_model():\n",
    "    model = Sequential()\n",
    "    \n",
    "    model.add(Conv2D(32, (5, 5), kernel_initializer='normal', activation='relu', input_shape=(c, h, w)))\n",
    "    model.add(MaxPooling2D(pool_size=(2,2)))\n",
    "    model.add(Dropout(0.25))\n",
    "    \n",
    "    model.add(Flatten())\n",
    "    model.add(Dense(128, kernel_initializer='normal', activation='relu'))\n",
    "    model.add(Dropout(0.5))\n",
    "    model.add(Dense(no_of_classes, kernel_initializer='normal', activation='softmax'))\n",
    "    \n",
    "    model.compile(loss='categorical_crossentropy', optimizer='adam', metrics=['accuracy'])\n",
    "    return model\n",
    "\n",
    "model = baseline_model()\n",
    "train_model(model)\n",
    "evaluate_model(model)"
   ]
  },
  {
   "cell_type": "markdown",
   "metadata": {},
   "source": [
    "## 4. Saving and loading model architecture and weights"
   ]
  },
  {
   "cell_type": "markdown",
   "metadata": {},
   "source": [
    "#### 4.1 Define reusable functions"
   ]
  },
  {
   "cell_type": "code",
   "execution_count": 20,
   "metadata": {},
   "outputs": [],
   "source": [
    "import h5py\n",
    "from keras.models import model_from_json\n",
    "from keras.models import load_model\n",
    "\n",
    "path_models = os.path.join(os.getcwd(), 'models')\n",
    "valid_model_files = [\".h5\", \".json\"]\n",
    "weights_suffix = '_weights.h5'\n",
    "architecture_suffix = '_architecture.json'"
   ]
  },
  {
   "cell_type": "code",
   "execution_count": 21,
   "metadata": {},
   "outputs": [],
   "source": [
    "def get_last_file_number(path):\n",
    "    numbers = [-1]\n",
    "    for file in os.listdir(path):\n",
    "        filename = os.path.splitext(file)[0]\n",
    "        ext = os.path.splitext(file)[1]\n",
    "        if ext.lower() not in valid_model_files: continue\n",
    "        if filename.startswith('model_'): \n",
    "            numbers.append(int(''.join(list(filter(str.isdigit, filename)))))\n",
    "    counter = max(numbers)\n",
    "    return counter"
   ]
  },
  {
   "cell_type": "markdown",
   "metadata": {},
   "source": [
    "#### 4.2 Save current model"
   ]
  },
  {
   "cell_type": "code",
   "execution_count": 22,
   "metadata": {},
   "outputs": [
    {
     "name": "stdout",
     "output_type": "stream",
     "text": [
      "Saving files:\n",
      "\tmodel_001_architecture.json\n",
      "\tmodel_001_weights.h5\n"
     ]
    }
   ],
   "source": [
    "counter = 0\n",
    "if not os.path.isdir(path_models): os.makedirs(path_models)\n",
    "else: counter = get_last_file_number(path_models) + 1\n",
    "\n",
    "model_name = 'model_' + '{0:03d}'.format(counter)\n",
    "model_arch_file = path_models + '\\\\' + model_name + architecture_suffix\n",
    "model_weights_file = path_models + '\\\\' + model_name + weights_suffix\n",
    "with open(model_arch_file, 'w+') as json_file:\n",
    "    json_file.write(model.to_json(indent=4))\n",
    "model.save_weights(model_weights_file)\n",
    "\n",
    "model.save(path_models + '\\\\' + model_name + '.h5')\n",
    "\n",
    "print(\"Saving files:\\n\\t\" + model_name + architecture_suffix + '\\n\\t' + model_name + weights_suffix)"
   ]
  },
  {
   "cell_type": "markdown",
   "metadata": {},
   "source": [
    "#### 4.3 Load model from file"
   ]
  },
  {
   "cell_type": "code",
   "execution_count": 24,
   "metadata": {},
   "outputs": [
    {
     "name": "stdout",
     "output_type": "stream",
     "text": [
      "Loading files:\n",
      "\tmodel_001_architecture.json\n",
      "\tmodel_001_weights.h5\n"
     ]
    }
   ],
   "source": [
    "counter = get_last_file_number(path_models)\n",
    "    \n",
    "model_name = 'model_' + '{0:03d}'.format(counter)\n",
    "model_arch_file = path_models + '\\\\' + model_name + architecture_suffix\n",
    "model_weights_file = path_models + '\\\\' + model_name + architecture_suffix\n",
    "\n",
    "print(\"Loading files:\\n\\t\" + model_name + architecture_suffix + '\\n\\t' + model_name + weights_suffix)\n",
    "\n",
    "if not os.path.isfile(model_arch_file):\n",
    "    print('Could not find', model_arch_file)\n",
    "elif not os.path.isfile(model_weights_file):\n",
    "    print('Could not find', model_weights_file)\n",
    "else:\n",
    "#     with open(model_arch_file, 'r') as json_file:\n",
    "#         model_loaded = model_from_json(json_file.read())\n",
    "#     model_loaded.load_weights(model_weights_file)\n",
    "    model_loaded = load_model(path_models + '\\\\' + model_name + '.h5')"
   ]
  },
  {
   "cell_type": "code",
   "execution_count": 25,
   "metadata": {},
   "outputs": [
    {
     "name": "stdout",
     "output_type": "stream",
     "text": [
      "\n",
      "\n",
      "\n",
      "297/297 [==============================] - 0s 631us/step\n",
      "Accuracy:  73.73737377751155 %\n"
     ]
    },
    {
     "data": {
      "text/plain": [
       "[1.5198379100773873, 0.7373737377751155]"
      ]
     },
     "execution_count": 25,
     "metadata": {},
     "output_type": "execute_result"
    }
   ],
   "source": [
    "evaluate_model(model_loaded)"
   ]
  }
 ],
 "metadata": {
  "kernelspec": {
   "display_name": "Python 3",
   "language": "python",
   "name": "python3"
  },
  "language_info": {
   "codemirror_mode": {
    "name": "ipython",
    "version": 3
   },
   "file_extension": ".py",
   "mimetype": "text/x-python",
   "name": "python",
   "nbconvert_exporter": "python",
   "pygments_lexer": "ipython3",
   "version": "3.6.4"
  }
 },
 "nbformat": 4,
 "nbformat_minor": 2
}
