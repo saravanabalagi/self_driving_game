{
 "cells": [
  {
   "cell_type": "markdown",
   "metadata": {},
   "source": [
    "## 1. Load Data"
   ]
  },
  {
   "cell_type": "markdown",
   "metadata": {},
   "source": [
    "#### 1.1 Import images"
   ]
  },
  {
   "cell_type": "code",
   "execution_count": 1,
   "metadata": {},
   "outputs": [
    {
     "data": {
      "text/plain": [
       "(291, 1, 75, 100)"
      ]
     },
     "execution_count": 1,
     "metadata": {},
     "output_type": "execute_result"
    }
   ],
   "source": [
    "import os\n",
    "import cv2\n",
    "import numpy as np\n",
    "\n",
    "path_img_src = os.path.join(os.getcwd(), 'data/processed')\n",
    "valid_images = [\".jpg\",\".gif\",\".png\",\".tga\"]\n",
    "x = []\n",
    "for file in os.listdir(path_img_src):\n",
    "    ext = os.path.splitext(file)[1]\n",
    "    if ext.lower() not in valid_images: continue\n",
    "    img = cv2.imread(os.path.join(path_img_src,file), cv2.IMREAD_GRAYSCALE)\n",
    "    x.append(img)\n",
    "x = np.array(x)\n",
    "x = x.reshape(x.shape[0], 1, x.shape[1], x.shape[2])\n",
    "x.shape"
   ]
  },
  {
   "cell_type": "markdown",
   "metadata": {},
   "source": [
    "#### 1.2 Import labels"
   ]
  },
  {
   "cell_type": "code",
   "execution_count": 2,
   "metadata": {},
   "outputs": [
    {
     "data": {
      "text/plain": [
       "(291, 1)"
      ]
     },
     "execution_count": 2,
     "metadata": {},
     "output_type": "execute_result"
    }
   ],
   "source": [
    "path_labels_src = os.path.join(os.getcwd(), 'data')\n",
    "y = []\n",
    "with open(os.path.join(path_labels_src, 'labels.txt'), \"r\") as labels_file:\n",
    "    for line in labels_file:\n",
    "        y.append(int(line.rstrip('\\n')))\n",
    "y = np.array(y[:x.shape[0]]).reshape(-1,1)\n",
    "y.shape"
   ]
  },
  {
   "cell_type": "markdown",
   "metadata": {},
   "source": [
    "## 2. Preprocess Data"
   ]
  },
  {
   "cell_type": "markdown",
   "metadata": {},
   "source": [
    "#### 2.1 Normalize images"
   ]
  },
  {
   "cell_type": "code",
   "execution_count": 3,
   "metadata": {},
   "outputs": [
    {
     "data": {
      "text/plain": [
       "(0.09411764705882353, 1.0)"
      ]
     },
     "execution_count": 3,
     "metadata": {},
     "output_type": "execute_result"
    }
   ],
   "source": [
    "x = x / 255\n",
    "np.min(x), np.max(x)"
   ]
  },
  {
   "cell_type": "markdown",
   "metadata": {},
   "source": [
    "#### 2.2 Convert labels to one-hot encoding"
   ]
  },
  {
   "cell_type": "code",
   "execution_count": 4,
   "metadata": {},
   "outputs": [
    {
     "name": "stderr",
     "output_type": "stream",
     "text": [
      "Using TensorFlow backend.\n"
     ]
    },
    {
     "name": "stdout",
     "output_type": "stream",
     "text": [
      "Before:  [0]\n",
      "After:   [1. 0. 0. 0. 0. 0. 0. 0. 0.]\n"
     ]
    }
   ],
   "source": [
    "from keras.utils import to_categorical\n",
    "print(\"Before: \", y[0])\n",
    "y = to_categorical(y)\n",
    "print(\"After:  \", y[0])"
   ]
  },
  {
   "cell_type": "markdown",
   "metadata": {},
   "source": [
    "#### 2.3 Split data for train and test"
   ]
  },
  {
   "cell_type": "code",
   "execution_count": 5,
   "metadata": {},
   "outputs": [
    {
     "name": "stdout",
     "output_type": "stream",
     "text": [
      "Train Data | Test Data\n",
      "   232     |     59    \n"
     ]
    }
   ],
   "source": [
    "seed = 1\n",
    "np.random.seed(seed)\n",
    "\n",
    "from sklearn.model_selection import train_test_split\n",
    "x_train, x_test, y_train, y_test = train_test_split(x, y, test_size=0.2, random_state=np.random)\n",
    "print(\"Train Data | Test Data\")\n",
    "print((\"{0:^10} | {1:^10}\").format(x_train.shape[0], x_test.shape[0]))"
   ]
  },
  {
   "cell_type": "markdown",
   "metadata": {},
   "source": [
    "## 3. Build Model"
   ]
  },
  {
   "cell_type": "markdown",
   "metadata": {},
   "source": [
    "#### 3.1 Import Keras and use NCHW mode"
   ]
  },
  {
   "cell_type": "code",
   "execution_count": 6,
   "metadata": {},
   "outputs": [],
   "source": [
    "from keras.models import Sequential\n",
    "from keras.layers import Dense, Dropout\n",
    "from keras.layers import Conv2D, MaxPooling2D, Flatten\n",
    "from keras.utils import np_utils\n",
    "\n",
    "from keras import backend\n",
    "backend.set_image_dim_ordering('th')"
   ]
  },
  {
   "cell_type": "markdown",
   "metadata": {},
   "source": [
    "#### 3.2 Create reusable functions"
   ]
  },
  {
   "cell_type": "code",
   "execution_count": 7,
   "metadata": {},
   "outputs": [
    {
     "name": "stdout",
     "output_type": "stream",
     "text": [
      "(291, 1, 75, 100) (291, 9)\n"
     ]
    }
   ],
   "source": [
    "c = x.shape[1]\n",
    "h = x.shape[2]\n",
    "w = x.shape[3]\n",
    "no_of_classes = y.shape[1]\n",
    "print(x.shape, y.shape)\n",
    "\n",
    "def train_model(model, epochs=100, batch_size=125):\n",
    "    model.fit(x_train, y_train, epochs=epochs, batch_size=batch_size)\n",
    "\n",
    "def evaluate_model(model):\n",
    "    print(\"\\n\\n\")\n",
    "    scores = model.evaluate(x_test, y_test)\n",
    "    print(\"Accuracy: \", scores[1]*100, \"%\")\n",
    "    return scores"
   ]
  },
  {
   "cell_type": "markdown",
   "metadata": {},
   "source": [
    "#### 3.3 Create a baseline model"
   ]
  },
  {
   "cell_type": "code",
   "execution_count": 8,
   "metadata": {},
   "outputs": [
    {
     "name": "stdout",
     "output_type": "stream",
     "text": [
      "Epoch 1/100\n",
      "232/232 [==============================] - 2s 8ms/step - loss: 2.6140 - acc: 0.1810\n",
      "Epoch 2/100\n",
      "232/232 [==============================] - 0s 315us/step - loss: 2.5276 - acc: 0.1422\n",
      "Epoch 3/100\n",
      "232/232 [==============================] - 0s 307us/step - loss: 2.2260 - acc: 0.1767\n",
      "Epoch 4/100\n",
      "232/232 [==============================] - 0s 298us/step - loss: 2.1186 - acc: 0.1595\n",
      "Epoch 5/100\n",
      "232/232 [==============================] - 0s 303us/step - loss: 2.1418 - acc: 0.1853\n",
      "Epoch 6/100\n",
      "232/232 [==============================] - 0s 285us/step - loss: 2.1232 - acc: 0.1983\n",
      "Epoch 7/100\n",
      "232/232 [==============================] - 0s 307us/step - loss: 2.1027 - acc: 0.1853\n",
      "Epoch 8/100\n",
      "232/232 [==============================] - 0s 302us/step - loss: 2.0778 - acc: 0.2241\n",
      "Epoch 9/100\n",
      "232/232 [==============================] - 0s 298us/step - loss: 2.0768 - acc: 0.1853\n",
      "Epoch 10/100\n",
      "232/232 [==============================] - 0s 302us/step - loss: 2.0577 - acc: 0.2241\n",
      "Epoch 11/100\n",
      "232/232 [==============================] - 0s 285us/step - loss: 2.0548 - acc: 0.1940\n",
      "Epoch 12/100\n",
      "232/232 [==============================] - 0s 311us/step - loss: 2.0020 - acc: 0.2198\n",
      "Epoch 13/100\n",
      "232/232 [==============================] - 0s 328us/step - loss: 2.0417 - acc: 0.2371\n",
      "Epoch 14/100\n",
      "232/232 [==============================] - 0s 311us/step - loss: 2.0520 - acc: 0.1983\n",
      "Epoch 15/100\n",
      "232/232 [==============================] - 0s 315us/step - loss: 2.0275 - acc: 0.2284\n",
      "Epoch 16/100\n",
      "232/232 [==============================] - 0s 320us/step - loss: 2.0526 - acc: 0.2112\n",
      "Epoch 17/100\n",
      "232/232 [==============================] - 0s 302us/step - loss: 2.0215 - acc: 0.2069\n",
      "Epoch 18/100\n",
      "232/232 [==============================] - 0s 302us/step - loss: 2.0418 - acc: 0.2112\n",
      "Epoch 19/100\n",
      "232/232 [==============================] - 0s 294us/step - loss: 2.0004 - acc: 0.2328\n",
      "Epoch 20/100\n",
      "232/232 [==============================] - 0s 285us/step - loss: 1.9993 - acc: 0.1983\n",
      "Epoch 21/100\n",
      "232/232 [==============================] - 0s 294us/step - loss: 1.9808 - acc: 0.2414\n",
      "Epoch 22/100\n",
      "232/232 [==============================] - 0s 290us/step - loss: 1.9637 - acc: 0.2241\n",
      "Epoch 23/100\n",
      "232/232 [==============================] - 0s 298us/step - loss: 1.9805 - acc: 0.2198\n",
      "Epoch 24/100\n",
      "232/232 [==============================] - 0s 311us/step - loss: 2.0075 - acc: 0.1681\n",
      "Epoch 25/100\n",
      "232/232 [==============================] - 0s 298us/step - loss: 1.9618 - acc: 0.2371\n",
      "Epoch 26/100\n",
      "232/232 [==============================] - 0s 302us/step - loss: 1.9531 - acc: 0.2328\n",
      "Epoch 27/100\n",
      "232/232 [==============================] - 0s 290us/step - loss: 1.9491 - acc: 0.2888\n",
      "Epoch 28/100\n",
      "232/232 [==============================] - 0s 290us/step - loss: 1.9188 - acc: 0.2586\n",
      "Epoch 29/100\n",
      "232/232 [==============================] - 0s 290us/step - loss: 1.9282 - acc: 0.2457\n",
      "Epoch 30/100\n",
      "232/232 [==============================] - 0s 294us/step - loss: 1.9278 - acc: 0.2457\n",
      "Epoch 31/100\n",
      "232/232 [==============================] - 0s 294us/step - loss: 1.9175 - acc: 0.1940\n",
      "Epoch 32/100\n",
      "232/232 [==============================] - 0s 290us/step - loss: 1.9104 - acc: 0.2629\n",
      "Epoch 33/100\n",
      "232/232 [==============================] - 0s 294us/step - loss: 1.9150 - acc: 0.2198\n",
      "Epoch 34/100\n",
      "232/232 [==============================] - 0s 298us/step - loss: 1.9020 - acc: 0.2802\n",
      "Epoch 35/100\n",
      "232/232 [==============================] - 0s 307us/step - loss: 1.8593 - acc: 0.2629\n",
      "Epoch 36/100\n",
      "232/232 [==============================] - 0s 307us/step - loss: 1.8766 - acc: 0.2586\n",
      "Epoch 37/100\n",
      "232/232 [==============================] - 0s 298us/step - loss: 1.8595 - acc: 0.2457\n",
      "Epoch 38/100\n",
      "232/232 [==============================] - 0s 302us/step - loss: 1.8661 - acc: 0.2888\n",
      "Epoch 39/100\n",
      "232/232 [==============================] - 0s 302us/step - loss: 1.8534 - acc: 0.2586\n",
      "Epoch 40/100\n",
      "232/232 [==============================] - 0s 290us/step - loss: 1.8737 - acc: 0.2586\n",
      "Epoch 41/100\n",
      "232/232 [==============================] - 0s 289us/step - loss: 1.9077 - acc: 0.2241\n",
      "Epoch 42/100\n",
      "232/232 [==============================] - 0s 281us/step - loss: 1.8765 - acc: 0.2500\n",
      "Epoch 43/100\n",
      "232/232 [==============================] - 0s 290us/step - loss: 1.8550 - acc: 0.2759\n",
      "Epoch 44/100\n",
      "232/232 [==============================] - 0s 298us/step - loss: 1.8517 - acc: 0.3103\n",
      "Epoch 45/100\n",
      "232/232 [==============================] - 0s 294us/step - loss: 1.8560 - acc: 0.2888\n",
      "Epoch 46/100\n",
      "232/232 [==============================] - 0s 298us/step - loss: 1.8502 - acc: 0.3017\n",
      "Epoch 47/100\n",
      "232/232 [==============================] - 0s 290us/step - loss: 1.8092 - acc: 0.2974\n",
      "Epoch 48/100\n",
      "232/232 [==============================] - 0s 290us/step - loss: 1.8555 - acc: 0.2931\n",
      "Epoch 49/100\n",
      "232/232 [==============================] - 0s 303us/step - loss: 1.8485 - acc: 0.2759\n",
      "Epoch 50/100\n",
      "232/232 [==============================] - 0s 307us/step - loss: 1.8058 - acc: 0.3103\n",
      "Epoch 51/100\n",
      "232/232 [==============================] - 0s 307us/step - loss: 1.8478 - acc: 0.2629\n",
      "Epoch 52/100\n",
      "232/232 [==============================] - 0s 302us/step - loss: 1.8134 - acc: 0.3060\n",
      "Epoch 53/100\n",
      "232/232 [==============================] - 0s 290us/step - loss: 1.8108 - acc: 0.3017\n",
      "Epoch 54/100\n",
      "232/232 [==============================] - 0s 290us/step - loss: 1.8506 - acc: 0.2759\n",
      "Epoch 55/100\n",
      "232/232 [==============================] - 0s 298us/step - loss: 1.8224 - acc: 0.3017\n",
      "Epoch 56/100\n",
      "232/232 [==============================] - 0s 281us/step - loss: 1.8096 - acc: 0.3017\n",
      "Epoch 57/100\n",
      "232/232 [==============================] - 0s 294us/step - loss: 1.8205 - acc: 0.3233\n",
      "Epoch 58/100\n",
      "232/232 [==============================] - 0s 285us/step - loss: 1.8029 - acc: 0.3405\n",
      "Epoch 59/100\n",
      "232/232 [==============================] - 0s 285us/step - loss: 1.8071 - acc: 0.3060\n",
      "Epoch 60/100\n",
      "232/232 [==============================] - 0s 311us/step - loss: 1.7940 - acc: 0.3233\n",
      "Epoch 61/100\n",
      "232/232 [==============================] - 0s 311us/step - loss: 1.8218 - acc: 0.2845\n",
      "Epoch 62/100\n",
      "232/232 [==============================] - 0s 324us/step - loss: 1.7937 - acc: 0.3319\n",
      "Epoch 63/100\n",
      "232/232 [==============================] - 0s 302us/step - loss: 1.7510 - acc: 0.3578\n",
      "Epoch 64/100\n",
      "232/232 [==============================] - 0s 324us/step - loss: 1.7555 - acc: 0.3362\n",
      "Epoch 65/100\n",
      "232/232 [==============================] - 0s 302us/step - loss: 1.7914 - acc: 0.3276\n",
      "Epoch 66/100\n",
      "232/232 [==============================] - 0s 303us/step - loss: 1.7769 - acc: 0.3147\n",
      "Epoch 67/100\n",
      "232/232 [==============================] - 0s 302us/step - loss: 1.7968 - acc: 0.2888\n",
      "Epoch 68/100\n",
      "232/232 [==============================] - 0s 285us/step - loss: 1.7775 - acc: 0.3190\n",
      "Epoch 69/100\n",
      "232/232 [==============================] - 0s 294us/step - loss: 1.7873 - acc: 0.3147\n",
      "Epoch 70/100\n",
      "232/232 [==============================] - 0s 302us/step - loss: 1.7774 - acc: 0.3405\n",
      "Epoch 71/100\n",
      "232/232 [==============================] - 0s 285us/step - loss: 1.7562 - acc: 0.3147\n",
      "Epoch 72/100\n",
      "232/232 [==============================] - 0s 298us/step - loss: 1.7638 - acc: 0.3578\n",
      "Epoch 73/100\n",
      "232/232 [==============================] - 0s 311us/step - loss: 1.7811 - acc: 0.3405\n",
      "Epoch 74/100\n",
      "232/232 [==============================] - 0s 333us/step - loss: 1.7199 - acc: 0.3621\n",
      "Epoch 75/100\n",
      "232/232 [==============================] - 0s 324us/step - loss: 1.7798 - acc: 0.3405\n",
      "Epoch 76/100\n",
      "232/232 [==============================] - 0s 302us/step - loss: 1.7487 - acc: 0.3491\n",
      "Epoch 77/100\n",
      "232/232 [==============================] - 0s 302us/step - loss: 1.7363 - acc: 0.3276\n",
      "Epoch 78/100\n",
      "232/232 [==============================] - 0s 328us/step - loss: 1.7347 - acc: 0.3664\n",
      "Epoch 79/100\n",
      "232/232 [==============================] - 0s 290us/step - loss: 1.7183 - acc: 0.3621\n",
      "Epoch 80/100\n",
      "232/232 [==============================] - 0s 307us/step - loss: 1.7290 - acc: 0.3707\n",
      "Epoch 81/100\n",
      "232/232 [==============================] - 0s 294us/step - loss: 1.7272 - acc: 0.3448\n",
      "Epoch 82/100\n",
      "232/232 [==============================] - 0s 307us/step - loss: 1.6785 - acc: 0.3707\n",
      "Epoch 83/100\n"
     ]
    },
    {
     "name": "stdout",
     "output_type": "stream",
     "text": [
      "232/232 [==============================] - 0s 303us/step - loss: 1.7025 - acc: 0.3578\n",
      "Epoch 84/100\n",
      "232/232 [==============================] - 0s 294us/step - loss: 1.6863 - acc: 0.3836\n",
      "Epoch 85/100\n",
      "232/232 [==============================] - 0s 285us/step - loss: 1.7341 - acc: 0.3448\n",
      "Epoch 86/100\n",
      "232/232 [==============================] - 0s 290us/step - loss: 1.6491 - acc: 0.3966\n",
      "Epoch 87/100\n",
      "232/232 [==============================] - 0s 311us/step - loss: 1.6959 - acc: 0.3836\n",
      "Epoch 88/100\n",
      "232/232 [==============================] - 0s 298us/step - loss: 1.6584 - acc: 0.4095\n",
      "Epoch 89/100\n",
      "232/232 [==============================] - 0s 298us/step - loss: 1.6556 - acc: 0.3836\n",
      "Epoch 90/100\n",
      "232/232 [==============================] - 0s 307us/step - loss: 1.6781 - acc: 0.3578\n",
      "Epoch 91/100\n",
      "232/232 [==============================] - 0s 311us/step - loss: 1.6370 - acc: 0.3793\n",
      "Epoch 92/100\n",
      "232/232 [==============================] - 0s 311us/step - loss: 1.6159 - acc: 0.4052\n",
      "Epoch 93/100\n",
      "232/232 [==============================] - 0s 311us/step - loss: 1.6373 - acc: 0.3836\n",
      "Epoch 94/100\n",
      "232/232 [==============================] - 0s 285us/step - loss: 1.6323 - acc: 0.3879\n",
      "Epoch 95/100\n",
      "232/232 [==============================] - 0s 285us/step - loss: 1.6526 - acc: 0.3664\n",
      "Epoch 96/100\n",
      "232/232 [==============================] - 0s 307us/step - loss: 1.6227 - acc: 0.3966\n",
      "Epoch 97/100\n",
      "232/232 [==============================] - 0s 289us/step - loss: 1.6250 - acc: 0.3836\n",
      "Epoch 98/100\n",
      "232/232 [==============================] - 0s 302us/step - loss: 1.6012 - acc: 0.4138\n",
      "Epoch 99/100\n",
      "232/232 [==============================] - 0s 328us/step - loss: 1.6178 - acc: 0.3922\n",
      "Epoch 100/100\n",
      "232/232 [==============================] - 0s 303us/step - loss: 1.6250 - acc: 0.4052\n",
      "\n",
      "\n",
      "\n",
      "59/59 [==============================] - 0s 1ms/step\n",
      "Accuracy:  45.76271236953089 %\n"
     ]
    },
    {
     "data": {
      "text/plain": [
       "[1.5156976732157044, 0.4576271236953089]"
      ]
     },
     "execution_count": 8,
     "metadata": {},
     "output_type": "execute_result"
    }
   ],
   "source": [
    "def baseline_model():\n",
    "    model = Sequential()\n",
    "    \n",
    "    model.add(Conv2D(32, (5, 5), kernel_initializer='normal', activation='relu', input_shape=(c, h, w)))\n",
    "    model.add(MaxPooling2D(pool_size=(2,2)))\n",
    "    model.add(Dropout(0.25))\n",
    "    \n",
    "    model.add(Flatten())\n",
    "    model.add(Dense(128, kernel_initializer='normal', activation='relu'))\n",
    "    model.add(Dropout(0.5))\n",
    "    model.add(Dense(no_of_classes, kernel_initializer='normal', activation='softmax'))\n",
    "    \n",
    "    model.compile(loss='categorical_crossentropy', optimizer='adam', metrics=['accuracy'])\n",
    "    return model\n",
    "\n",
    "model = baseline_model()\n",
    "train_model(model)\n",
    "evaluate_model(model)"
   ]
  },
  {
   "cell_type": "code",
   "execution_count": null,
   "metadata": {},
   "outputs": [],
   "source": []
  }
 ],
 "metadata": {
  "kernelspec": {
   "display_name": "Python 3",
   "language": "python",
   "name": "python3"
  },
  "language_info": {
   "codemirror_mode": {
    "name": "ipython",
    "version": 3
   },
   "file_extension": ".py",
   "mimetype": "text/x-python",
   "name": "python",
   "nbconvert_exporter": "python",
   "pygments_lexer": "ipython3",
   "version": "3.6.4"
  }
 },
 "nbformat": 4,
 "nbformat_minor": 2
}
