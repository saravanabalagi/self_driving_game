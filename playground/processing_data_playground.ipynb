{
 "cells": [
  {
   "cell_type": "code",
   "execution_count": 1,
   "metadata": {},
   "outputs": [],
   "source": [
    "import numpy as np\n",
    "import pickle\n",
    "import gzip\n",
    "from deepgtav.messages import frame2numpy\n",
    "\n",
    "filename = \"dataset_test.pz\"\n",
    "pfile = gzip.open(filename, mode='rb')"
   ]
  },
  {
   "cell_type": "code",
   "execution_count": 2,
   "metadata": {},
   "outputs": [
    {
     "name": "stdout",
     "output_type": "stream",
     "text": [
      "Using matplotlib backend: Qt5Agg\n",
      "Dataset Shape (4137, 150, 200, 3)\n"
     ]
    }
   ],
   "source": [
    "import cv2\n",
    "import matplotlib.pyplot as plt\n",
    "%matplotlib\n",
    "plt.ion()\n",
    "\n",
    "count = 0\n",
    "no_of_channels = 3\n",
    "image_size = (200,150)\n",
    "x_train = []\n",
    "y_train = []\n",
    "\n",
    "while True:\n",
    "    try:\n",
    "        \n",
    "        # Load var from pickle\n",
    "        var = pickle.load(pfile)\n",
    "        \n",
    "        # Skip first 3 frames\n",
    "        count += 1\n",
    "        if count<3: continue\n",
    "            \n",
    "        # Save image and steering\n",
    "        image = frame2numpy(var['frame'], image_size)\n",
    "        x_train.append(image)\n",
    "        y_train.append(var['steering'])\n",
    "        \n",
    "        # Display image\n",
    "        # if len(y_train) % 100 == 0:\n",
    "        #     plt.imshow(image[:,:,::-1])\n",
    "        #     plt.axis('off')\n",
    "        #     plt.show()\n",
    "        #     plt.pause(0.0001)\n",
    "            \n",
    "    except EOFError: break\n",
    "        \n",
    "# Convert to numpy\n",
    "x_train = np.array(x_train)\n",
    "y_train = np.array(y_train)\n",
    "print('Dataset Shape', x_train.shape)"
   ]
  },
  {
   "cell_type": "code",
   "execution_count": 54,
   "metadata": {},
   "outputs": [],
   "source": [
    "import pyxinput\n",
    "import time\n",
    "try:\n",
    "    joystick = pyxinput.vController()\n",
    "    time.sleep(5)\n",
    "    joystick.set_value('AxisLx', -0.5)\n",
    "    time.sleep(1)\n",
    "    joystick.set_value('AxisLx', 0.5)\n",
    "    time.sleep(1)\n",
    "    joystick.set_value('AxisLx',0)\n",
    "    time.sleep(5)\n",
    "    del joystick\n",
    "except MaxInputsReachedError:\n",
    "    print('Unable to connect controller for testing.')"
   ]
  },
  {
   "cell_type": "code",
   "execution_count": 60,
   "metadata": {},
   "outputs": [
    {
     "name": "stdout",
     "output_type": "stream",
     "text": [
      "Available: [3, 4]\n",
      "Available: [3, 4]\n"
     ]
    }
   ],
   "source": [
    "print('Available:', pyxinput.vController.available_ids())\n",
    "joystick = pyxinput.vController(pyxinput.vController.available_ids()[0])\n",
    "time.sleep(1)\n",
    "joystick.UnPlug(force=True)\n",
    "del joystick\n",
    "print('Available:', pyxinput.vController.available_ids())"
   ]
  }
 ],
 "metadata": {
  "kernelspec": {
   "display_name": "Python 3",
   "language": "python",
   "name": "python3"
  },
  "language_info": {
   "codemirror_mode": {
    "name": "ipython",
    "version": 3
   },
   "file_extension": ".py",
   "mimetype": "text/x-python",
   "name": "python",
   "nbconvert_exporter": "python",
   "pygments_lexer": "ipython3",
   "version": "3.6.4"
  }
 },
 "nbformat": 4,
 "nbformat_minor": 2
}
